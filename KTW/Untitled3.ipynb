{
 "cells": [
  {
   "cell_type": "code",
   "execution_count": 4,
   "id": "4b49e057",
   "metadata": {},
   "outputs": [
    {
     "ename": "AssertionError",
     "evalue": "Error: can't read file.",
     "output_type": "error",
     "traceback": [
      "\u001b[1;31m---------------------------------------------------------------------------\u001b[0m",
      "\u001b[1;31mAssertionError\u001b[0m                            Traceback (most recent call last)",
      "Cell \u001b[1;32mIn[4], line 5\u001b[0m\n\u001b[0;32m      2\u001b[0m \u001b[38;5;28;01mfrom\u001b[39;00m \u001b[38;5;21;01mOCC\u001b[39;00m\u001b[38;5;21;01m.\u001b[39;00m\u001b[38;5;21;01mExtend\u001b[39;00m\u001b[38;5;21;01m.\u001b[39;00m\u001b[38;5;21;01mDataExchange\u001b[39;00m \u001b[38;5;28;01mimport\u001b[39;00m read_step_file\n\u001b[0;32m      4\u001b[0m \u001b[38;5;66;03m# Wczytaj plik 3DXML\u001b[39;00m\n\u001b[1;32m----> 5\u001b[0m shape \u001b[38;5;241m=\u001b[39m \u001b[43mread_step_file\u001b[49m\u001b[43m(\u001b[49m\u001b[38;5;124;43m'\u001b[39;49m\u001b[38;5;124;43mGL00001874056_GLD0001874058_A00.3dxml\u001b[39;49m\u001b[38;5;124;43m'\u001b[39;49m\u001b[43m)\u001b[49m\n\u001b[0;32m      7\u001b[0m \u001b[38;5;66;03m# Oblicz maksymalne wymiary\u001b[39;00m\n\u001b[0;32m      8\u001b[0m bbox \u001b[38;5;241m=\u001b[39m shape\u001b[38;5;241m.\u001b[39mBoundingBox()\n",
      "File \u001b[1;32m~\\AppData\\Local\\miniconda3\\envs\\snowflakes\\Lib\\site-packages\\OCC\\Extend\\DataExchange.py:110\u001b[0m, in \u001b[0;36mread_step_file\u001b[1;34m(filename, as_compound, verbosity)\u001b[0m\n\u001b[0;32m    108\u001b[0m         \u001b[38;5;28;01mreturn\u001b[39;00m shps\n\u001b[0;32m    109\u001b[0m \u001b[38;5;28;01melse\u001b[39;00m:\n\u001b[1;32m--> 110\u001b[0m     \u001b[38;5;28;01mraise\u001b[39;00m \u001b[38;5;167;01mAssertionError\u001b[39;00m(\u001b[38;5;124m\"\u001b[39m\u001b[38;5;124mError: can\u001b[39m\u001b[38;5;124m'\u001b[39m\u001b[38;5;124mt read file.\u001b[39m\u001b[38;5;124m\"\u001b[39m)\n\u001b[0;32m    111\u001b[0m \u001b[38;5;28;01mreturn\u001b[39;00m \u001b[38;5;28;01mNone\u001b[39;00m\n",
      "\u001b[1;31mAssertionError\u001b[0m: Error: can't read file."
     ]
    }
   ],
   "source": [
    "from OCC.Display.WebGl import x3dom_renderer\n",
    "from OCC.Extend.DataExchange import read_step_file\n",
    "\n",
    "# Wczytaj plik 3DXML\n",
    "shape = read_step_file('GL00001874056_GLD0001874058_A00.3dxml')\n",
    "\n",
    "# Oblicz maksymalne wymiary\n",
    "bbox = shape.BoundingBox()\n",
    "max_dimensions = bbox.CornerMax().Subtracted(bbox.CornerMin())\n",
    "print(\"Maksymalne wymiary:\")\n",
    "print(max_dimensions)\n",
    "\n",
    "# Oblicz objętość\n",
    "volume = shape.Volume()\n",
    "print(\"Objętość:\")\n",
    "print(volume)\n",
    "\n",
    "# Informacje o materiale - dostępne dla poszczególnych obiektów w modelu\n",
    "\n",
    "# Wyświetl model w przeglądarce 3D\n",
    "my_renderer = x3dom_renderer.X3DomRenderer()\n",
    "my_renderer.DisplayShape(shape)\n",
    "my_renderer.render()"
   ]
  },
  {
   "cell_type": "code",
   "execution_count": 5,
   "id": "ae592cdc",
   "metadata": {},
   "outputs": [
    {
     "ename": "AttributeError",
     "evalue": "'BRepMesh_IncrementalMesh' object has no attribute 'GetMesh'",
     "output_type": "error",
     "traceback": [
      "\u001b[1;31m---------------------------------------------------------------------------\u001b[0m",
      "\u001b[1;31mAttributeError\u001b[0m                            Traceback (most recent call last)",
      "Cell \u001b[1;32mIn[5], line 18\u001b[0m\n\u001b[0;32m     16\u001b[0m mesh_builder \u001b[38;5;241m=\u001b[39m BRepMesh_IncrementalMesh(shape, \u001b[38;5;241m0.1\u001b[39m)\n\u001b[0;32m     17\u001b[0m mesh_builder\u001b[38;5;241m.\u001b[39mPerform()\n\u001b[1;32m---> 18\u001b[0m \u001b[43mmesh_builder\u001b[49m\u001b[38;5;241;43m.\u001b[39;49m\u001b[43mGetMesh\u001b[49m(mesh)\n\u001b[0;32m     20\u001b[0m \u001b[38;5;66;03m# Oblicz wymiary\u001b[39;00m\n\u001b[0;32m     21\u001b[0m bbox \u001b[38;5;241m=\u001b[39m Bnd_Box()\n",
      "\u001b[1;31mAttributeError\u001b[0m: 'BRepMesh_IncrementalMesh' object has no attribute 'GetMesh'"
     ]
    }
   ],
   "source": [
    "from OCC.Core.STEPControl import STEPControl_Reader\n",
    "from OCC.Core.TopoDS import TopoDS_Shape\n",
    "from OCC.Core.BRep import BRep_Tool\n",
    "from OCC.Core.BRepMesh import BRepMesh_IncrementalMesh\n",
    "from OCC.Core.TColgp import TColgp_Array1OfPnt\n",
    "from OCC.Core.Bnd import Bnd_Box\n",
    "\n",
    "# Wczytaj plik STP\n",
    "step_reader = STEPControl_Reader()\n",
    "step_reader.ReadFile('GL00001874056_GLD0001874058_A00.stp')\n",
    "step_reader.TransferRoots()\n",
    "shape = step_reader.OneShape()\n",
    "\n",
    "# Utwórz mesh\n",
    "mesh = TopoDS_Shape()\n",
    "mesh_builder = BRepMesh_IncrementalMesh(shape, 0.1)\n",
    "mesh_builder.Perform()\n",
    "mesh_builder.GetMesh(mesh)\n",
    "\n",
    "# Oblicz wymiary\n",
    "bbox = Bnd_Box()\n",
    "BRep_Tool.BoxOnSurface(mesh, bbox)\n",
    "xmin, ymin, zmin, xmax, ymax, zmax = bbox.Get()\n",
    "\n",
    "# Oblicz objętość\n",
    "volume = BRep_Tool.Volume(mesh)\n",
    "\n",
    "# Pobierz materiał\n",
    "material = \"Brak informacji o materiale\"\n",
    "\n",
    "print(\"Wymiary:\")\n",
    "print(\"X:\", xmax - xmin)\n",
    "print(\"Y:\", ymax - ymin)\n",
    "print(\"Z:\", zmax - zmin)\n",
    "print(\"Objętość:\", volume)\n",
    "print(\"Materiał:\", material)\n"
   ]
  },
  {
   "cell_type": "code",
   "execution_count": null,
   "id": "316d6beb",
   "metadata": {},
   "outputs": [],
   "source": []
  }
 ],
 "metadata": {
  "kernelspec": {
   "display_name": "Python 3 (ipykernel)",
   "language": "python",
   "name": "python3"
  },
  "language_info": {
   "codemirror_mode": {
    "name": "ipython",
    "version": 3
   },
   "file_extension": ".py",
   "mimetype": "text/x-python",
   "name": "python",
   "nbconvert_exporter": "python",
   "pygments_lexer": "ipython3",
   "version": "3.11.3"
  }
 },
 "nbformat": 4,
 "nbformat_minor": 5
}
