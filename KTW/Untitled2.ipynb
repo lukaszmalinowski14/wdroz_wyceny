{
 "cells": [
  {
   "cell_type": "code",
   "execution_count": 2,
   "id": "cc11fee4",
   "metadata": {},
   "outputs": [
    {
     "ename": "ModuleNotFoundError",
     "evalue": "No module named 'OCC'",
     "output_type": "error",
     "traceback": [
      "\u001b[1;31m---------------------------------------------------------------------------\u001b[0m",
      "\u001b[1;31mModuleNotFoundError\u001b[0m                       Traceback (most recent call last)",
      "Cell \u001b[1;32mIn[2], line 1\u001b[0m\n\u001b[1;32m----> 1\u001b[0m \u001b[38;5;28;01mfrom\u001b[39;00m \u001b[38;5;21;01mOCC\u001b[39;00m\u001b[38;5;21;01m.\u001b[39;00m\u001b[38;5;21;01mDisplay\u001b[39;00m\u001b[38;5;21;01m.\u001b[39;00m\u001b[38;5;21;01mWebGl\u001b[39;00m \u001b[38;5;28;01mimport\u001b[39;00m x3dom_renderer\n\u001b[0;32m      2\u001b[0m \u001b[38;5;28;01mfrom\u001b[39;00m \u001b[38;5;21;01mOCC\u001b[39;00m\u001b[38;5;21;01m.\u001b[39;00m\u001b[38;5;21;01mExtend\u001b[39;00m\u001b[38;5;21;01m.\u001b[39;00m\u001b[38;5;21;01mDataExchange\u001b[39;00m \u001b[38;5;28;01mimport\u001b[39;00m read_step_file\n\u001b[0;32m      4\u001b[0m \u001b[38;5;66;03m# Wczytaj plik 3DXML\u001b[39;00m\n",
      "\u001b[1;31mModuleNotFoundError\u001b[0m: No module named 'OCC'"
     ]
    }
   ],
   "source": [
    "from OCC.Display.WebGl import x3dom_renderer\n",
    "from OCC.Extend.DataExchange import read_step_file\n",
    "\n",
    "# Wczytaj plik 3DXML\n",
    "shape = read_step_file('sciezka/do/pliku.3dxml')\n",
    "\n",
    "# Oblicz maksymalne wymiary\n",
    "bbox = shape.BoundingBox()\n",
    "max_dimensions = bbox.CornerMax().Subtracted(bbox.CornerMin())\n",
    "print(\"Maksymalne wymiary:\")\n",
    "print(max_dimensions)\n",
    "\n",
    "# Oblicz objętość\n",
    "volume = shape.Volume()\n",
    "print(\"Objętość:\")\n",
    "print(volume)\n",
    "\n",
    "# Informacje o materiale - dostępne dla poszczególnych obiektów w modelu\n",
    "\n",
    "# Wyświetl model w przeglądarce 3D\n",
    "my_renderer = x3dom_renderer.X3DomRenderer()\n",
    "my_renderer.DisplayShape(shape)\n",
    "my_renderer.render()\n"
   ]
  },
  {
   "cell_type": "code",
   "execution_count": null,
   "id": "5400e58e",
   "metadata": {},
   "outputs": [],
   "source": []
  }
 ],
 "metadata": {
  "kernelspec": {
   "display_name": "Python 3 (ipykernel)",
   "language": "python",
   "name": "python3"
  },
  "language_info": {
   "codemirror_mode": {
    "name": "ipython",
    "version": 3
   },
   "file_extension": ".py",
   "mimetype": "text/x-python",
   "name": "python",
   "nbconvert_exporter": "python",
   "pygments_lexer": "ipython3",
   "version": "3.11.3"
  }
 },
 "nbformat": 4,
 "nbformat_minor": 5
}
