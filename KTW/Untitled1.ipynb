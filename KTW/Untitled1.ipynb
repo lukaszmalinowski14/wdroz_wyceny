{
 "cells": [
  {
   "cell_type": "code",
   "execution_count": 15,
   "id": "1f2f9737",
   "metadata": {},
   "outputs": [
    {
     "name": "stdout",
     "output_type": "stream",
     "text": [
      "Maksymalne wymiary w osiach (x, y, z): [370. 150.   5.]\n"
     ]
    },
    {
     "data": {
      "application/vnd.jupyter.widget-view+json": {
       "model_id": "d1d1c8a7fbf441c8b8a09788e5b79afc",
       "version_major": 2,
       "version_minor": 0
      },
      "text/plain": [
       "Widget(value=\"<iframe src='http://localhost:63345/index.html?ui=P_0x20abeb0a1d0_5&reconnect=auto' style='width…"
      ]
     },
     "metadata": {},
     "output_type": "display_data"
    }
   ],
   "source": [
    "import pyvista as pv\n",
    "import trimesh\n",
    "\n",
    "# Wczytaj zamkniętą siatkę STL\n",
    "closed_mesh = trimesh.load('closed_mesh.stl')\n",
    "\n",
    "# Konwertuj zamkniętą siatkę na obiekt pyvista\n",
    "mesh = pv.wrap(closed_mesh)\n",
    "\n",
    "# Utwórz plotter i dodaj zamkniętą siatkę\n",
    "plotter = pv.Plotter()\n",
    "plotter.add_mesh(mesh, color='white')\n",
    "\n",
    "# Wyświetl wymiary\n",
    "plotter.show_grid()\n",
    "plotter.show_bounds(all_edges=True)\n",
    "\n",
    "# Pobierz maksymalne wymiary w trzech osiach\n",
    "max_dimensions = closed_mesh.extents\n",
    "\n",
    "# Wyświetl maksymalne wymiary\n",
    "print(\"Maksymalne wymiary w osiach (x, y, z):\", max_dimensions)\n",
    "\n",
    "# Wyświetl rysunek\n",
    "plotter.show()"
   ]
  },
  {
   "cell_type": "code",
   "execution_count": 14,
   "id": "46caeb83",
   "metadata": {},
   "outputs": [
    {
     "name": "stdout",
     "output_type": "stream",
     "text": [
      "Maksymalne wymiary w osiach (x, y, z): [370. 150.   5.]\n"
     ]
    }
   ],
   "source": [
    "# Pobierz maksymalne wymiary w trzech osiach\n",
    "max_dimensions = closed_mesh.extents\n",
    "\n",
    "# Wyświetl maksymalne wymiary\n",
    "print(\"Maksymalne wymiary w osiach (x, y, z):\", max_dimensions)"
   ]
  },
  {
   "cell_type": "code",
   "execution_count": 4,
   "id": "ba5df93b",
   "metadata": {},
   "outputs": [
    {
     "data": {
      "application/vnd.jupyter.widget-view+json": {
       "model_id": "3fca56db7cca444f8b737b15a26aa330",
       "version_major": 2,
       "version_minor": 0
      },
      "text/plain": [
       "Widget(value=\"<iframe src='http://localhost:63345/index.html?ui=P_0x20ab2b4ec50_1&reconnect=auto' style='width…"
      ]
     },
     "metadata": {},
     "output_type": "display_data"
    }
   ],
   "source": [
    "import pyvista as pv\n",
    "import trimesh\n",
    "import numpy as np\n",
    "\n",
    "# Wczytaj zamkniętą siatkę STL\n",
    "closed_mesh = trimesh.load('closed_mesh.stl')\n",
    "\n",
    "# Znajdź skrajny punkt siatki\n",
    "min_point = closed_mesh.bounds[0]\n",
    "max_point = closed_mesh.bounds[1]\n",
    "\n",
    "# Konwertuj zamkniętą siatkę na obiekt pyvista\n",
    "mesh = pv.wrap(closed_mesh)\n",
    "\n",
    "# Utwórz plotter i dodaj zamkniętą siatkę\n",
    "plotter = pv.Plotter()\n",
    "plotter.add_mesh(mesh, color='white')\n",
    "\n",
    "# Dodaj wymiary na podstawie skrajnego punktu\n",
    "plotter.add_point_labels([min_point], ['Min'], point_color='red', text_color='red', point_size=10)\n",
    "plotter.add_point_labels([max_point], ['Max'], point_color='blue', text_color='blue', point_size=10)\n",
    "plotter.add_mesh(pv.Line(min_point, (max_point[0], min_point[1], min_point[2])), color='red')\n",
    "plotter.add_mesh(pv.Line(min_point, (min_point[0], max_point[1], min_point[2])), color='blue')\n",
    "\n",
    "# Wyświetl rysunek\n",
    "plotter.show()\n"
   ]
  },
  {
   "cell_type": "code",
   "execution_count": 5,
   "id": "8164245c",
   "metadata": {},
   "outputs": [
    {
     "ename": "AttributeError",
     "evalue": "'ColorVisuals' object has no attribute 'material'",
     "output_type": "error",
     "traceback": [
      "\u001b[1;31m---------------------------------------------------------------------------\u001b[0m",
      "\u001b[1;31mAttributeError\u001b[0m                            Traceback (most recent call last)",
      "Cell \u001b[1;32mIn[5], line 2\u001b[0m\n\u001b[0;32m      1\u001b[0m \u001b[38;5;66;03m# Wyświetl informacje o materiale\u001b[39;00m\n\u001b[1;32m----> 2\u001b[0m material_info \u001b[38;5;241m=\u001b[39m \u001b[43mclosed_mesh\u001b[49m\u001b[38;5;241;43m.\u001b[39;49m\u001b[43mvisual\u001b[49m\u001b[38;5;241;43m.\u001b[39;49m\u001b[43mmaterial\u001b[49m\n\u001b[0;32m      3\u001b[0m \u001b[38;5;28mprint\u001b[39m(\u001b[38;5;124m\"\u001b[39m\u001b[38;5;124mMateriał obiektu:\u001b[39m\u001b[38;5;124m\"\u001b[39m)\n\u001b[0;32m      4\u001b[0m \u001b[38;5;28mprint\u001b[39m(material_info)\n",
      "\u001b[1;31mAttributeError\u001b[0m: 'ColorVisuals' object has no attribute 'material'"
     ]
    }
   ],
   "source": [
    "# Wyświetl informacje o materiale\n",
    "material_info = closed_mesh.visual.material\n",
    "print(\"Materiał obiektu:\")\n",
    "print(material_info)"
   ]
  },
  {
   "cell_type": "code",
   "execution_count": 6,
   "id": "2f2aa326",
   "metadata": {},
   "outputs": [],
   "source": [
    "# Wyświetl informacje o materiale\n",
    "material_info = closed_mesh.metadata.get('material')\n",
    "if material_info:\n",
    "    print(\"Materiał obiektu:\")\n",
    "    print(material_info)"
   ]
  },
  {
   "cell_type": "code",
   "execution_count": 8,
   "id": "6fa9c209",
   "metadata": {},
   "outputs": [
    {
     "name": "stdout",
     "output_type": "stream",
     "text": [
      "Maksymalne wymiary w osiach (x, y, z): [370. 150.   5.]\n"
     ]
    },
    {
     "data": {
      "application/vnd.jupyter.widget-view+json": {
       "model_id": "ffb7ee9d55384314bc32a143f6cdac3d",
       "version_major": 2,
       "version_minor": 0
      },
      "text/plain": [
       "Widget(value=\"<iframe src='http://localhost:63345/index.html?ui=P_0x20ab3227290_3&reconnect=auto' style='width…"
      ]
     },
     "metadata": {},
     "output_type": "display_data"
    }
   ],
   "source": [
    "import pyvista as pv\n",
    "import trimesh\n",
    "import numpy as np\n",
    "\n",
    "# Wczytaj zamkniętą siatkę STL\n",
    "closed_mesh = trimesh.load('closed_mesh.stl')\n",
    "\n",
    "# Znajdź środek siatki\n",
    "center_point = closed_mesh.center_mass\n",
    "\n",
    "# Konwertuj zamkniętą siatkę na obiekt pyvista\n",
    "mesh = pv.wrap(closed_mesh)\n",
    "\n",
    "# Utwórz plotter i dodaj zamkniętą siatkę\n",
    "plotter = pv.Plotter()\n",
    "plotter.add_mesh(mesh, color='white')\n",
    "\n",
    "# Dodaj punkt środkowy\n",
    "plotter.add_point_labels([center_point], ['Center'], point_color='green', text_color='green', point_size=10)\n",
    "\n",
    "# Pobierz maksymalne wymiary w trzech osiach\n",
    "max_dimensions = closed_mesh.extents\n",
    "\n",
    "# Wyświetl maksymalne wymiary\n",
    "print(\"Maksymalne wymiary w osiach (x, y, z):\", max_dimensions)\n",
    "\n",
    "# Wyświetl informacje o materiale\n",
    "material_info = closed_mesh.metadata.get('material')\n",
    "if material_info:\n",
    "    print(\"Materiał obiektu:\")\n",
    "    print(material_info)\n",
    "\n",
    "# Wyświetl rysunek\n",
    "plotter.show()\n"
   ]
  },
  {
   "cell_type": "code",
   "execution_count": 9,
   "id": "ecc4409a",
   "metadata": {},
   "outputs": [],
   "source": [
    "material_info = closed_mesh.metadata.get('material')\n",
    "if material_info:\n",
    "    print(\"Materiał obiektu:\")\n",
    "    print(material_info)"
   ]
  },
  {
   "cell_type": "code",
   "execution_count": 10,
   "id": "91e5bde3",
   "metadata": {},
   "outputs": [],
   "source": [
    "material_info = closed_mesh.metadata.get('material')"
   ]
  },
  {
   "cell_type": "code",
   "execution_count": 11,
   "id": "4d79ab33",
   "metadata": {},
   "outputs": [
    {
     "name": "stdout",
     "output_type": "stream",
     "text": [
      "Materiał obiektu:\n"
     ]
    }
   ],
   "source": [
    "print(\"Materiał obiektu:\")"
   ]
  },
  {
   "cell_type": "code",
   "execution_count": 12,
   "id": "38dc70d2",
   "metadata": {},
   "outputs": [
    {
     "name": "stdout",
     "output_type": "stream",
     "text": [
      "None\n"
     ]
    }
   ],
   "source": [
    " print(material_info)"
   ]
  },
  {
   "cell_type": "code",
   "execution_count": 16,
   "id": "c0fcb4d2",
   "metadata": {},
   "outputs": [
    {
     "name": "stdout",
     "output_type": "stream",
     "text": [
      "Liczba wierzchołków: 434\n",
      "Liczba trójkątów: 908\n",
      "Liczba normalnych: 434\n",
      "Liczba kolorów wierzchołków: 434\n"
     ]
    }
   ],
   "source": [
    "import trimesh\n",
    "\n",
    "# Wczytaj plik STL\n",
    "mesh = trimesh.load_mesh('closed_mesh.stl')\n",
    "\n",
    "# Pobierz dane z siatki\n",
    "vertices = mesh.vertices\n",
    "triangles = mesh.faces\n",
    "normals = mesh.vertex_normals\n",
    "vertex_colors = mesh.visual.vertex_colors\n",
    "\n",
    "# Wyświetl informacje o siatce\n",
    "print(\"Liczba wierzchołków:\", len(vertices))\n",
    "print(\"Liczba trójkątów:\", len(triangles))\n",
    "print(\"Liczba normalnych:\", len(normals))\n",
    "print(\"Liczba kolorów wierzchołków:\", len(vertex_colors))\n"
   ]
  },
  {
   "cell_type": "code",
   "execution_count": null,
   "id": "0a2ed0cc",
   "metadata": {},
   "outputs": [],
   "source": []
  }
 ],
 "metadata": {
  "kernelspec": {
   "display_name": "Python 3 (ipykernel)",
   "language": "python",
   "name": "python3"
  },
  "language_info": {
   "codemirror_mode": {
    "name": "ipython",
    "version": 3
   },
   "file_extension": ".py",
   "mimetype": "text/x-python",
   "name": "python",
   "nbconvert_exporter": "python",
   "pygments_lexer": "ipython3",
   "version": "3.11.3"
  }
 },
 "nbformat": 4,
 "nbformat_minor": 5
}
